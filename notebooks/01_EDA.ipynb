{
  "nbformat": 4,
  "nbformat_minor": 0,
  "metadata": {
    "colab": {
      "provenance": [],
      "mount_file_id": "1gX_kbFPJXYHgtn2V4sloGJ6yASLnsf4a",
      "authorship_tag": "ABX9TyM9rSUcvqDjnnbh2YvWciTP",
      "include_colab_link": true
    },
    "kernelspec": {
      "name": "python3",
      "display_name": "Python 3"
    },
    "language_info": {
      "name": "python"
    }
  },
  "cells": [
    {
      "cell_type": "markdown",
      "metadata": {
        "id": "view-in-github",
        "colab_type": "text"
      },
      "source": [
        "<a href=\"https://colab.research.google.com/github/Cflalex/-Practicum/blob/main/notebooks/01_EDA.ipynb\" target=\"_parent\"><img src=\"https://colab.research.google.com/assets/colab-badge.svg\" alt=\"Open In Colab\"/></a>"
      ]
    },
    {
      "cell_type": "code",
      "execution_count": 2,
      "metadata": {
        "colab": {
          "base_uri": "https://localhost:8080/"
        },
        "collapsed": true,
        "id": "fTEr5pVwEmOd",
        "outputId": "6f762d37-7a53-4ccd-b5b3-91ce5229d21b"
      },
      "outputs": [
        {
          "output_type": "stream",
          "name": "stdout",
          "text": [
            "Cloning into 'Forecasting_sales'...\n",
            "remote: Enumerating objects: 23, done.\u001b[K\n",
            "remote: Counting objects: 100% (23/23), done.\u001b[K\n",
            "remote: Compressing objects: 100% (15/15), done.\u001b[K\n",
            "remote: Total 23 (delta 4), reused 23 (delta 4), pack-reused 0 (from 0)\u001b[K\n",
            "Receiving objects: 100% (23/23), done.\n",
            "Resolving deltas: 100% (4/4), done.\n"
          ]
        }
      ],
      "source": [
        "!git clone https://github.com/Cflalex/Forecasting_sales.git\n",
        "\n",
        "# Анализ данных\n",
        "import pandas as pd\n",
        "import numpy as np\n",
        "import matplotlib.pyplot as plt\n",
        "import seaborn as sns\n",
        "\n"
      ]
    },
    {
      "cell_type": "code",
      "source": [
        "%cd Forecasting_sales"
      ],
      "metadata": {
        "colab": {
          "base_uri": "https://localhost:8080/"
        },
        "id": "nGWcyxx1RFdT",
        "outputId": "9d6f9351-fbcb-4187-d4be-668150cfc697"
      },
      "execution_count": 3,
      "outputs": [
        {
          "output_type": "stream",
          "name": "stdout",
          "text": [
            "/content/Forecasting_sales\n"
          ]
        }
      ]
    },
    {
      "cell_type": "code",
      "source": [
        "# В начале ноутбука\n",
        "import os\n",
        "token = input(\"Вставте токен:\")  # Вводите токен вручную\n",
        "os.environ['GITHUB_TOKEN'] = token\n",
        "!git remote set-url origin \"https://${GITHUB_TOKEN}@github.com/Cflalex/Forecasting_sales.git\""
      ],
      "metadata": {
        "colab": {
          "base_uri": "https://localhost:8080/"
        },
        "id": "pgfE7IbBP3vj",
        "outputId": "d6992600-a3ad-42b9-e2cb-f3165625a677"
      },
      "execution_count": 4,
      "outputs": [
        {
          "name": "stdout",
          "output_type": "stream",
          "text": [
            "Вставте токен:%cd Forecasting_sales\n"
          ]
        }
      ]
    },
    {
      "cell_type": "code",
      "source": [
        "!echo \".ipynb_checkpoints\\n*.token\" > /content/Forecasting_sales/.gitignore"
      ],
      "metadata": {
        "id": "4gXy4xaHPtfd"
      },
      "execution_count": 20,
      "outputs": []
    },
    {
      "cell_type": "markdown",
      "source": [],
      "metadata": {
        "id": "gfrodlYeMnr4"
      }
    },
    {
      "cell_type": "code",
      "source": [
        "!git config --global user.email \"cflalex959@gmail.com\"\n",
        "!git config --global user.name \"Cflalex\""
      ],
      "metadata": {
        "id": "x0IKo6p3Twl8"
      },
      "execution_count": 8,
      "outputs": []
    },
    {
      "cell_type": "code",
      "source": [
        "!git add .\n",
        "!git commit -m \"Update EDA\"\n",
        "!git push"
      ],
      "metadata": {
        "colab": {
          "base_uri": "https://localhost:8080/"
        },
        "id": "2DYpCMPgBS11",
        "outputId": "52db3a3e-3a3a-45cb-b3d2-b0cab72fa57d"
      },
      "execution_count": 9,
      "outputs": [
        {
          "output_type": "stream",
          "name": "stdout",
          "text": [
            "[main 10a1e40] Update EDA\n",
            " 1 file changed, 1 insertion(+)\n",
            " create mode 100644 notebooks/01_EDA.ipynb\n",
            "fatal: unable to access 'https://github.com/Cflalex/Forecasting_sales.git/': URL using bad/illegal format or missing URL\n"
          ]
        }
      ]
    }
  ]
}